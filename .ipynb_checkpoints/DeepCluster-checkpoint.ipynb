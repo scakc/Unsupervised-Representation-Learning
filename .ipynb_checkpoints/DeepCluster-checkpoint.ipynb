{
 "cells": [
  {
   "cell_type": "code",
   "execution_count": 52,
   "metadata": {},
   "outputs": [
    {
     "data": {
      "text/plain": [
       "<torch.autograd.anomaly_mode.set_detect_anomaly at 0x7fc7675b3208>"
      ]
     },
     "execution_count": 52,
     "metadata": {},
     "output_type": "execute_result"
    }
   ],
   "source": [
    "import torch\n",
    "import torchvision\n",
    "from torchvision import datasets, transforms\n",
    "import matplotlib.pyplot as plt\n",
    "import torch.nn as nn\n",
    "import torch.nn.functional as F\n",
    "from IPython.display import clear_output as clr\n",
    "from sklearn.cluster import KMeans\n",
    "from sklearn.neural_network import MLPClassifier as mlp \n",
    "import os\n",
    "import numpy as np\n",
    "import time\n",
    "torch.autograd.set_detect_anomaly(True)"
   ]
  },
  {
   "cell_type": "code",
   "execution_count": 2,
   "metadata": {},
   "outputs": [
    {
     "name": "stdout",
     "output_type": "stream",
     "text": [
      "Done !\n"
     ]
    }
   ],
   "source": [
    "# training\n",
    "BATCH_SIZE = 1000\n",
    "if(os.path.isdir(os.path.join(os.getcwd(), '../data'))):\n",
    "    trainset = datasets.MNIST('../data/', train=True, download=False,\n",
    "                   transform=transforms.ToTensor())\n",
    "else:\n",
    "    trainset = datasets.MNIST('../data/', train=True, download=True,\n",
    "                   transform=transforms.ToTensor())\n",
    "trainloader = torch.utils.data.DataLoader(trainset, batch_size=BATCH_SIZE,\n",
    "                                          shuffle=True, num_workers=2)\n",
    "print(\"Done !\")"
   ]
  },
  {
   "cell_type": "code",
   "execution_count": 3,
   "metadata": {},
   "outputs": [],
   "source": [
    "class DeepCluster(nn.Module):\n",
    "    \n",
    "    def __init__(self, K, D):\n",
    "        super(DeepCluster, self).__init__()\n",
    "        layers = [400,15]\n",
    "        self.K = K\n",
    "        self.idim = D # Assuming input to be N x D dimensional matrix\n",
    "        self.layer_sizes = layers\n",
    "        self.W = len(self.layer_sizes)\n",
    "        self.fc_first = nn.Linear(self.idim, layers[0], 'relu')\n",
    "        self.fc1 = nn.Linear(layers[0], layers[1], 'relu')\n",
    "        self.fc_last = nn.Linear(self.layer_sizes[-1], self.K, 'linear')\n",
    "    \n",
    "        with torch.no_grad():\n",
    "            self.C = None\n",
    "            self.K_lr = 0.1\n",
    "            self.loss = nn.CrossEntropyLoss()\n",
    "        \n",
    "    \n",
    "    def forward(self, input):\n",
    "        \n",
    "        x = input.view(-1, self.idim)\n",
    "        x = self.fc_first(x)\n",
    "        x = self.fc1(x)\n",
    "        g = x[:,:]\n",
    "        x = self.fc_last(x)\n",
    "    \n",
    "        return x, g\n",
    "\n",
    "    def get_counts(self, labels):\n",
    "        bins = [0]*self.K\n",
    "        \n",
    "        for l in list(labels.detach().numpy()):\n",
    "            bins[l] += 1\n",
    "        \n",
    "        return bins\n",
    "        \n",
    "    def cluster_feats(self, feats, update = True):\n",
    "        \n",
    "        with torch.no_grad():\n",
    "            N ,K = feats.shape\n",
    "            ### Implementation of Kmeans clustering\n",
    "            if(self.C is None):\n",
    "                self.C = feats[:self.K,:].view(self.K, K)\n",
    "\n",
    "            # Finding nearest assigments..\n",
    "            x_lazy = feats.view(N, 1, K)\n",
    "            c_lazy = self.C.view(1, self.K, K)\n",
    "            D = ((x_lazy - c_lazy)**2).sum(-1)\n",
    "            labels = D.argmin(dim=1).view(-1)\n",
    "            \n",
    "            \n",
    "            \n",
    "            Nc = self.get_counts(labels)\n",
    "#             print(Nc)\n",
    "            c = self.C[:,:]\n",
    "            for k in range(self.K):\n",
    "                if(Nc[k] == 0):\n",
    "                    c[k,:] = c[k-1,:]+torch.rand_like(feats[k,:]*10e-4)\n",
    "                else:\n",
    "                    pass\n",
    "                \n",
    "            # Finding nearest assigments..\n",
    "            c_lazy = c.view(1, self.K, K)\n",
    "            D = ((x_lazy - c_lazy)**2).sum(-1)\n",
    "            labels = D.argmin(dim=1).view(-1)\n",
    "            \n",
    "            Nc = self.get_counts(labels)\n",
    "#             print(Nc)\n",
    "            for k in range(self.K):\n",
    "                if(Nc[k] == 0):\n",
    "                    pass\n",
    "                else:\n",
    "                    vec = feats[labels == k].view(-1,K)\n",
    "                    c[k,:] = vec.sum(0)/Nc[k]\n",
    "            \n",
    "            if(update):\n",
    "                self.C = self.K_lr*(c) + (1-self.K_lr)*self.C\n",
    "\n",
    "            return labels.long()\n",
    "    \n",
    "    def get_loss(self, x):\n",
    "        \n",
    "        out, feats = self.forward(x)\n",
    "        with torch.no_grad():\n",
    "            labels = self.cluster_feats(feats.clone().detach())\n",
    "        \n",
    "        loss = self.loss(out, labels)\n",
    "        return loss"
   ]
  },
  {
   "cell_type": "code",
   "execution_count": 4,
   "metadata": {},
   "outputs": [],
   "source": [
    "device = 'cpu'\n",
    "model = DeepCluster(10, 784)"
   ]
  },
  {
   "cell_type": "code",
   "execution_count": 5,
   "metadata": {},
   "outputs": [],
   "source": [
    "opt = torch.optim.Adam(model.parameters(), 0.001, amsgrad = True)\n",
    "train_loss = []\n",
    "times = []"
   ]
  },
  {
   "cell_type": "code",
   "execution_count": 41,
   "metadata": {},
   "outputs": [
    {
     "name": "stdout",
     "output_type": "stream",
     "text": [
      "Epoch no : 50 batch_no : 50 curr_loss : tensor(0.0755)  time_e: 429.27313590049744\n"
     ]
    },
    {
     "data": {
      "image/png": "[encoded data removed]",
      "text/plain": [
       "<Figure size 432x288 with 1 Axes>"
      ]
     },
     "metadata": {
      "needs_background": "light"
     },
     "output_type": "display_data"
    }
   ],
   "source": [
    "start = time.time()\n",
    "for epoch in range(50):\n",
    "    \n",
    "    for i, data in enumerate(trainloader, 0):\n",
    "        images, labels = data\n",
    "        images = images.to(device)\n",
    "        opt.zero_grad() \n",
    "        \n",
    "        l = model.get_loss(images)\n",
    "        l.backward()\n",
    "        opt.step()\n",
    "    \n",
    "        train_loss.append(l.detach())\n",
    "        times.append(time.time() - start)\n",
    "        \n",
    "        if(i%10 == 0):\n",
    "            clr(wait = True)\n",
    "            print(\"Epoch no :\", epoch + 1, \"batch_no :\", i, \"curr_loss :\",  train_loss[-1], ' time_e:', time.time() - start)\n",
    "        \n",
    "plt.plot(train_loss)\n",
    "plt.show()"
   ]
  },
  {
   "cell_type": "code",
   "execution_count": 19,
   "metadata": {},
   "outputs": [],
   "source": [
    "x, g = model.forward(images)"
   ]
  },
  {
   "cell_type": "code",
   "execution_count": 42,
   "metadata": {},
   "outputs": [
    {
     "data": {
      "text/plain": [
       "[<matplotlib.lines.Line2D at 0x7fc766373cf8>]"
      ]
     },
     "execution_count": 42,
     "metadata": {},
     "output_type": "execute_result"
    },
    {
     "data": {
      "image/png": "[encoded data removed]",
      "text/plain": [
       "<Figure size 432x288 with 1 Axes>"
      ]
     },
     "metadata": {
      "needs_background": "light"
     },
     "output_type": "display_data"
    }
   ],
   "source": [
    "plt.plot(x.detach().numpy()[5])"
   ]
  },
  {
   "cell_type": "code",
   "execution_count": 43,
   "metadata": {},
   "outputs": [
    {
     "data": {
      "text/plain": [
       "(array([0, 1, 2, 3, 4, 5, 6, 7, 8, 9]),\n",
       " array([ 98, 134, 100, 106,  89,  83,  91, 114,  99,  86]))"
      ]
     },
     "execution_count": 43,
     "metadata": {},
     "output_type": "execute_result"
    }
   ],
   "source": [
    "np.unique(labels, return_counts = True)"
   ]
  },
  {
   "cell_type": "code",
   "execution_count": 44,
   "metadata": {},
   "outputs": [
    {
     "data": {
      "text/plain": [
       "(array([0, 1, 2, 3, 4, 5, 6, 7, 8, 9]),\n",
       " array([155,   1, 279,  33, 119, 161, 123,  88,  37,   4]))"
      ]
     },
     "execution_count": 44,
     "metadata": {},
     "output_type": "execute_result"
    }
   ],
   "source": [
    "np.unique(model.cluster_feats(g, False), return_counts = True)"
   ]
  },
  {
   "cell_type": "code",
   "execution_count": 51,
   "metadata": {},
   "outputs": [
    {
     "data": {
      "text/plain": [
       "tensor([1, 0, 2, 9, 6, 8, 6, 3, 5, 8, 6, 6, 4, 9, 1, 7, 5, 6, 7, 8, 7, 0, 6, 3,\n",
       "        1, 7, 2, 2, 8, 2, 3, 8, 1, 9, 8, 2, 4, 1, 4, 4, 4, 0, 0, 2, 0, 8, 4, 2,\n",
       "        9, 1, 2, 7, 5, 1, 4, 7, 9, 3, 0, 8, 0, 0, 7, 5, 9, 4, 8, 8, 5, 2, 3, 7,\n",
       "        2, 8, 6, 6, 7, 6, 7, 0, 1, 0, 3, 7, 8, 2, 2, 0, 1, 3, 6, 1, 7, 7, 7, 2,\n",
       "        7, 8, 9, 8, 1, 1, 8, 7, 8, 4, 1, 0, 1, 4, 8, 6, 6])"
      ]
     },
     "execution_count": 51,
     "metadata": {},
     "output_type": "execute_result"
    }
   ],
   "source": [
    "labels[model.cluster_feats(g, False) == 4]"
   ]
  },
  {
   "cell_type": "code",
   "execution_count": 46,
   "metadata": {},
   "outputs": [
    {
     "data": {
      "text/plain": [
       "tensor([9, 9, 9, 9, 9, 9, 9, 9, 9, 9, 9, 9, 9, 9, 9, 9, 9, 9, 9, 9, 9, 9, 9, 9,\n",
       "        9, 9, 9, 9, 9, 9, 9, 9, 9, 9, 9, 9, 9, 9, 9, 9, 9, 9, 9, 9, 9, 9, 9, 9,\n",
       "        9, 9, 9, 9, 9, 9, 9, 9, 9, 9, 9, 9, 9, 9, 9, 9, 9, 9, 9, 9, 9, 9, 9, 9,\n",
       "        9, 9, 9, 9, 9, 9, 9, 9, 9, 9, 9, 9, 9, 9])"
      ]
     },
     "execution_count": 46,
     "metadata": {},
     "output_type": "execute_result"
    }
   ],
   "source": [
    "labels[labels == 9]"
   ]
  },
  {
   "cell_type": "code",
   "execution_count": 57,
   "metadata": {},
   "outputs": [],
   "source": [
    "features = []\n",
    "ys = []\n",
    "for i, data in enumerate(trainloader, 0):\n",
    "        images, labels = data\n",
    "        images = images.to(device)\n",
    "        x, g = model.forward(images)\n",
    "        features.append(g.detach().numpy())\n",
    "        ys.append(labels.detach().numpy())        "
   ]
  },
  {
   "cell_type": "code",
   "execution_count": 53,
   "metadata": {},
   "outputs": [],
   "source": [
    "cfier = mlp(hidden_layer_sizes=(10)) "
   ]
  },
  {
   "cell_type": "code",
   "execution_count": 65,
   "metadata": {},
   "outputs": [],
   "source": [
    "Y  = np.array(ys).reshape(-1,1)"
   ]
  },
  {
   "cell_type": "code",
   "execution_count": 68,
   "metadata": {},
   "outputs": [],
   "source": [
    "X = np.array(features).reshape(-1,15)"
   ]
  },
  {
   "cell_type": "code",
   "execution_count": 71,
   "metadata": {},
   "outputs": [
    {
     "name": "stderr",
     "output_type": "stream",
     "text": [
      "/home/abhi/anaconda3/lib/python3.7/site-packages/sklearn/neural_network/multilayer_perceptron.py:916: DataConversionWarning: A column-vector y was passed when a 1d array was expected. Please change the shape of y to (n_samples, ), for example using ravel().\n",
      "  y = column_or_1d(y, warn=True)\n",
      "/home/abhi/anaconda3/lib/python3.7/site-packages/sklearn/neural_network/multilayer_perceptron.py:562: ConvergenceWarning: Stochastic Optimizer: Maximum iterations (200) reached and the optimization hasn't converged yet.\n",
      "  % self.max_iter, ConvergenceWarning)\n"
     ]
    },
    {
     "data": {
      "text/plain": [
       "MLPClassifier(activation='relu', alpha=0.0001, batch_size='auto', beta_1=0.9,\n",
       "       beta_2=0.999, early_stopping=False, epsilon=1e-08,\n",
       "       hidden_layer_sizes=10, learning_rate='constant',\n",
       "       learning_rate_init=0.001, max_iter=200, momentum=0.9,\n",
       "       n_iter_no_change=10, nesterovs_momentum=True, power_t=0.5,\n",
       "       random_state=None, shuffle=True, solver='adam', tol=0.0001,\n",
       "       validation_fraction=0.1, verbose=False, warm_start=False)"
      ]
     },
     "execution_count": 71,
     "metadata": {},
     "output_type": "execute_result"
    }
   ],
   "source": [
    "cfier.fit(X[:50000],Y[:50000])"
   ]
  },
  {
   "cell_type": "code",
   "execution_count": 72,
   "metadata": {},
   "outputs": [
    {
     "data": {
      "text/plain": [
       "0.5802"
      ]
     },
     "execution_count": 72,
     "metadata": {},
     "output_type": "execute_result"
    }
   ],
   "source": [
    "cfier.score(X[50000:],Y[50000:])"
   ]
  },
  {
   "cell_type": "code",
   "execution_count": null,
   "metadata": {},
   "outputs": [],
   "source": []
  }
 ],
 "metadata": {
  "kernelspec": {
   "display_name": "Python 3",
   "language": "python",
   "name": "python3"
  },
  "language_info": {
   "codemirror_mode": {
    "name": "ipython",
    "version": 3
   },
   "file_extension": ".py",
   "mimetype": "text/x-python",
   "name": "python",
   "nbconvert_exporter": "python",
   "pygments_lexer": "ipython3",
   "version": "3.7.3"
  }
 },
 "nbformat": 4,
 "nbformat_minor": 2
}
