{
 "cells": [
  {
   "cell_type": "code",
   "execution_count": 1,
   "metadata": {},
   "outputs": [
    {
     "data": {
      "text/plain": [
       "<torch.autograd.anomaly_mode.set_detect_anomaly at 0x7f39ac165630>"
      ]
     },
     "execution_count": 1,
     "metadata": {},
     "output_type": "execute_result"
    }
   ],
   "source": [
    "import torch\n",
    "import torchvision\n",
    "from torchvision import datasets, transforms\n",
    "import matplotlib.pyplot as plt\n",
    "import torch.nn as nn\n",
    "import torch.nn.functional as F\n",
    "from IPython.display import clear_output as clr\n",
    "from sklearn.cluster import MiniBatchKMeans as MBKMeans\n",
    "from sklearn.neural_network import MLPClassifier as mlp \n",
    "import os\n",
    "import numpy as np\n",
    "import time\n",
    "torch.autograd.set_detect_anomaly(True)"
   ]
  },
  {
   "cell_type": "code",
   "execution_count": 2,
   "metadata": {},
   "outputs": [
    {
     "name": "stdout",
     "output_type": "stream",
     "text": [
      "Done !\n"
     ]
    }
   ],
   "source": [
    "# training\n",
    "BATCH_SIZE = 100\n",
    "transform = transforms.Compose([\n",
    "        transforms.RandomCrop(32, padding=4),\n",
    "        transforms.RandomHorizontalFlip(),\n",
    "        transforms.ToTensor(),\n",
    "        transforms.Normalize((0.4914, 0.4822, 0.4465), (0.2023, 0.1994, 0.2010)),\n",
    "        ])\n",
    "if(os.path.isdir(os.path.join(os.getcwd(), '../data/cifar-10-batches-py'))):\n",
    "    trainset = datasets.CIFAR10('../data/', train=True, download=False,\n",
    "                   transform=transform)\n",
    "else:\n",
    "    trainset = datasets.CIFAR10('../data/', train=True, download=True,\n",
    "                   transform=transform)\n",
    "trainloader = torch.utils.data.DataLoader(trainset, batch_size=BATCH_SIZE,\n",
    "                                          shuffle=True, num_workers=2)\n",
    "\n",
    "testset = torchvision.datasets.CIFAR10(root='../data/', train=False,\n",
    "                                       download=False, transform=transform)\n",
    "testloader = torch.utils.data.DataLoader(testset, batch_size=BATCH_SIZE,\n",
    "                                         shuffle=False, num_workers=2)\n",
    "\n",
    "print(\"Done !\")"
   ]
  },
  {
   "cell_type": "code",
   "execution_count": 3,
   "metadata": {},
   "outputs": [],
   "source": [
    "classes = ('plane', 'car', 'bird', 'cat',\n",
    "           'deer', 'dog', 'frog', 'horse', 'ship', 'truck')"
   ]
  },
  {
   "cell_type": "code",
   "execution_count": 13,
   "metadata": {},
   "outputs": [],
   "source": [
    "class DeepCluster(nn.Module):\n",
    "    \n",
    "    def __init__(self, K):\n",
    "        super(DeepCluster, self).__init__()\n",
    "        \n",
    "        self.K = K\n",
    "        self.conv_layer = nn.Sequential(\n",
    "\n",
    "            # Conv Layer block 1\n",
    "            nn.Conv2d(in_channels=3, out_channels=32, kernel_size=3, padding=1),\n",
    "            nn.BatchNorm2d(32),\n",
    "            nn.ReLU(inplace=True),\n",
    "            nn.Conv2d(in_channels=32, out_channels=64, kernel_size=3, padding=1),\n",
    "            nn.ReLU(inplace=True),\n",
    "            nn.MaxPool2d(kernel_size=2, stride=2),\n",
    "\n",
    "            # Conv Layer block 2\n",
    "            nn.Conv2d(in_channels=64, out_channels=128, kernel_size=3, padding=1),\n",
    "            nn.BatchNorm2d(128),\n",
    "            nn.ReLU(inplace=True),\n",
    "            nn.Conv2d(in_channels=128, out_channels=128, kernel_size=3, padding=1),\n",
    "            nn.ReLU(inplace=True),\n",
    "            nn.MaxPool2d(kernel_size=2, stride=2),\n",
    "            nn.Dropout2d(p=0.05),\n",
    "\n",
    "            # Conv Layer block 3\n",
    "            nn.Conv2d(in_channels=128, out_channels=256, kernel_size=3, padding=1),\n",
    "            nn.BatchNorm2d(256),\n",
    "            nn.ReLU(inplace=True),\n",
    "            nn.Conv2d(in_channels=256, out_channels=256, kernel_size=3, padding=1),\n",
    "            nn.ReLU(inplace=True),\n",
    "            nn.MaxPool2d(kernel_size=2, stride=2),\n",
    "        )\n",
    "\n",
    "\n",
    "        self.fc_layer = nn.Sequential(\n",
    "            nn.Dropout(p=0.1),\n",
    "            nn.Linear(4096, 1024),\n",
    "            nn.ReLU(inplace=True),\n",
    "            nn.Linear(1024, 512),\n",
    "            nn.ReLU(inplace=True),\n",
    "            nn.Dropout(p=0.1),\n",
    "            nn.Linear(512, 84)\n",
    "        )\n",
    "        \n",
    "        self.fc_last = nn.Linear(84, self.K)\n",
    "        \n",
    "        with torch.no_grad():\n",
    "            self.C = None\n",
    "            self.K_lr = 0.001\n",
    "            self.loss = F.cross_entropy\n",
    "            self.loss2 = nn.MSELoss()\n",
    "            self.clustering = MBKMeans(n_clusters = self.K)\n",
    "            self.count = [0]*self.K\n",
    "        \n",
    "    \n",
    "    def forward(self, input):\n",
    "        \n",
    "        x = input\n",
    "        x = self.conv_layer(x)\n",
    "        x = x.view(x.size(0), -1)\n",
    "        g = self.fc_layer(x)\n",
    "        x = self.fc_last(g)\n",
    "    \n",
    "        return x, g\n",
    "\n",
    "    def get_counts(self, labels):\n",
    "        \n",
    "        bins = [0]*self.K\n",
    "        for l in list(labels.detach().numpy()):\n",
    "            bins[l] += 1\n",
    "        return bins\n",
    "        \n",
    "    def cluster_feats(self, feats, update = True):\n",
    "        for i in range(50):\n",
    "            with torch.no_grad():\n",
    "                N ,K = feats.shape\n",
    "                ### Implementation of Kmeans clustering\n",
    "                if(self.C is None):\n",
    "                    self.C = feats[:self.K,:].view(self.K, K)\n",
    "\n",
    "                # Finding nearest assigments..\n",
    "                x_lazy = feats.view(N, 1, K)\n",
    "                c_lazy = self.C.view(1, self.K, K)\n",
    "                D = ((x_lazy - c_lazy)**2).sum(-1)\n",
    "                labels = D.argmin(dim=1).view(-1)\n",
    "                Nc = self.get_counts(labels)\n",
    "\n",
    "                if(update):\n",
    "                    c = self.C[:,:]\n",
    "                    for k in range(self.K):\n",
    "                        if(Nc[k] == 0):\n",
    "                            self.count[k] += 1\n",
    "                            if(self.count[k] >= 10):\n",
    "                                self.count[k] = 0\n",
    "\n",
    "                                maxind = 0\n",
    "                                for ind in range(self.K):\n",
    "                                    if(Nc[ind] > Nc[maxind]):\n",
    "                                        maxind = ind\n",
    "\n",
    "\n",
    "                                c[k,:] = c[maxind,:]+torch.rand_like(c[maxind,:])*10e-20               \n",
    "                        else:\n",
    "                            pass\n",
    "\n",
    "                    # Finding nearest assigments..\n",
    "                    c_lazy = c.view(1, self.K, K)\n",
    "                    D = ((x_lazy - c_lazy)**2).sum(-1)\n",
    "                    labels = D.argmin(dim=1).view(-1)\n",
    "\n",
    "                    Nc = self.get_counts(labels)\n",
    "                    for k in range(self.K):\n",
    "                        if(Nc[k] == 0):\n",
    "                            pass\n",
    "                        else:\n",
    "                            vec = feats[labels == k].view(-1,K)\n",
    "                            c[k,:] = vec.sum(0)/Nc[k]\n",
    "\n",
    "                        self.C = self.K_lr*(c) + (1-self.K_lr)*self.C\n",
    "                        temp = self.C.pow(2).sum(1).pow(1/2).view(-1,1)\n",
    "    #                     self.C = self.C/temp\n",
    "                \n",
    "\n",
    "        return labels.long(), Nc\n",
    "    \n",
    "    def get_loss_old(self, x, cluster_update = True):\n",
    "        \n",
    "        out, feats = self.forward(x)\n",
    "#         temp = feats.pow(2).sum(1).pow(1/2).view(-1,1)\n",
    "#         feats = feats/temp\n",
    "        with torch.no_grad():\n",
    "            plabels, Nc = self.cluster_feats(feats.clone().detach(), cluster_update)\n",
    "        \n",
    "        wts = 1/(torch.tensor(Nc).float()+10e-4)\n",
    "        wts = wts/wts.sum()\n",
    "        loss = self.loss(out, plabels, weight = wts)# + self.loss2(temp, torch.zeros_like(temp) + 1)\n",
    "        \n",
    "        return loss\n",
    "    \n",
    "    def get_loss(self, x, cluster_update = True):\n",
    "        \n",
    "        out, feats = self.forward(x)\n",
    "        temp = feats.pow(2).sum(1).pow(1/2).view(-1,1)\n",
    "#         feats = feats/temp\n",
    "        if(cluster_update):\n",
    "            self.clustering.partial_fit(feats.clone().detach())\n",
    "        plabels = torch.tensor(self.clustering.predict(feats.clone().detach())).view(-1).long()\n",
    "        loss = self.loss(out, plabels) + self.loss2(temp, torch.zeros_like(temp) + 1)\n",
    "        \n",
    "        return loss"
   ]
  },
  {
   "cell_type": "code",
   "execution_count": 14,
   "metadata": {},
   "outputs": [],
   "source": [
    "device = 'cpu'\n",
    "model = DeepCluster(20)"
   ]
  },
  {
   "cell_type": "code",
   "execution_count": 15,
   "metadata": {},
   "outputs": [],
   "source": [
    "opt = torch.optim.Adam(model.parameters(), 0.001)\n",
    "train_loss = []\n",
    "times = []"
   ]
  },
  {
   "cell_type": "code",
   "execution_count": 71,
   "metadata": {},
   "outputs": [
    {
     "name": "stdout",
     "output_type": "stream",
     "text": [
      "Epoch no : 4 batch_no : 490 curr_loss : 1.2648959  time_e: 2111.3507630825043\n"
     ]
    },
    {
     "data": {
      "image/png": "[encoded data removed]",
      "text/plain": [
       "<Figure size 432x288 with 1 Axes>"
      ]
     },
     "metadata": {
      "needs_background": "light"
     },
     "output_type": "display_data"
    }
   ],
   "source": [
    "start = time.time()\n",
    "plabels = []\n",
    "model.K_lr = 0.1\n",
    "for epoch in range(4):\n",
    "    \n",
    "    for i, data in enumerate(trainloader, 0):\n",
    "        images, labels = data\n",
    "        images = images.to(device)\n",
    "        opt.zero_grad() \n",
    "        \n",
    "#         x, g = model.forward(images)\n",
    "#         l = model.loss(x, labels)\n",
    "        if(i%2 == 0):\n",
    "            l = model.get_loss_old(images)\n",
    "        else:\n",
    "            l = model.get_loss_old(images, False)\n",
    "            l.backward()\n",
    "            opt.step()\n",
    "    \n",
    "        train_loss.append(l.detach().numpy())\n",
    "        times.append(time.time() - start)\n",
    "        \n",
    "        if(i%10 == 0):\n",
    "            clr(wait = True)\n",
    "            print(\"Epoch no :\", epoch + 1, \"batch_no :\", i, \"curr_loss :\",  train_loss[-1], ' time_e:', time.time() - start)\n",
    "        \n",
    "plt.plot(train_loss)\n",
    "plt.show()"
   ]
  },
  {
   "cell_type": "code",
   "execution_count": 72,
   "metadata": {},
   "outputs": [],
   "source": [
    "x,g = model.forward(images)"
   ]
  },
  {
   "cell_type": "code",
   "execution_count": 73,
   "metadata": {},
   "outputs": [
    {
     "data": {
      "text/plain": [
       "[<matplotlib.lines.Line2D at 0x7f3919036b00>]"
      ]
     },
     "execution_count": 73,
     "metadata": {},
     "output_type": "execute_result"
    },
    {
     "data": {
      "image/png": "[encoded data removed]",
      "text/plain": [
       "<Figure size 432x288 with 1 Axes>"
      ]
     },
     "metadata": {
      "needs_background": "light"
     },
     "output_type": "display_data"
    }
   ],
   "source": [
    "plt.plot(x.detach().numpy()[7])"
   ]
  },
  {
   "cell_type": "code",
   "execution_count": 74,
   "metadata": {},
   "outputs": [
    {
     "data": {
      "text/plain": [
       "(array([0, 1, 2, 3, 4, 5, 6, 7, 8, 9]),\n",
       " array([ 6, 14,  8, 11,  9, 12, 10,  8, 13,  9]))"
      ]
     },
     "execution_count": 74,
     "metadata": {},
     "output_type": "execute_result"
    }
   ],
   "source": [
    "np.unique(labels, return_counts = True)"
   ]
  },
  {
   "cell_type": "code",
   "execution_count": 75,
   "metadata": {},
   "outputs": [
    {
     "data": {
      "text/plain": [
       "(array([ 0,  2,  9, 11, 13, 14, 15, 16, 17, 18, 19]),\n",
       " array([ 4,  8,  3,  7,  7,  5, 40,  7,  5,  2, 12]))"
      ]
     },
     "execution_count": 75,
     "metadata": {},
     "output_type": "execute_result"
    }
   ],
   "source": [
    "# ls = model.clustering.predict(g.detach().numpy())\n",
    "ls, g = model.cluster_feats(g.detach())\n",
    "np.unique(ls, return_counts = True)"
   ]
  },
  {
   "cell_type": "code",
   "execution_count": 76,
   "metadata": {},
   "outputs": [
    {
     "data": {
      "text/plain": [
       "tensor([15, 15, 15, 19, 11, 15,  9, 17, 13, 15, 16, 16, 15, 16, 19,  0, 15, 18,\n",
       "         0, 11, 15, 15, 19, 15, 17, 17, 19, 11, 19, 15, 16, 13,  2, 18,  9,  2,\n",
       "        13, 15, 19, 15, 17, 19, 15, 15, 11, 15,  2, 15,  0, 19,  2,  2, 15, 15,\n",
       "        19, 14, 15, 16, 15, 15, 19, 16, 13, 14, 15,  2, 15, 19, 14, 15, 15, 15,\n",
       "        14, 19, 15, 11, 15, 11,  0, 15, 15, 15, 11, 13, 17, 13, 15, 15, 16,  2,\n",
       "        15,  2, 14, 15,  9, 15, 13, 15, 15, 15])"
      ]
     },
     "execution_count": 76,
     "metadata": {},
     "output_type": "execute_result"
    }
   ],
   "source": [
    "ls"
   ]
  },
  {
   "cell_type": "code",
   "execution_count": 77,
   "metadata": {},
   "outputs": [
    {
     "data": {
      "text/plain": [
       "tensor([9, 9, 9, 9, 9, 9, 9, 9, 9])"
      ]
     },
     "execution_count": 77,
     "metadata": {},
     "output_type": "execute_result"
    }
   ],
   "source": [
    "labels[labels == 9]"
   ]
  },
  {
   "cell_type": "code",
   "execution_count": 78,
   "metadata": {},
   "outputs": [],
   "source": [
    "cfier = mlp(hidden_layer_sizes=(32)) "
   ]
  },
  {
   "cell_type": "code",
   "execution_count": 68,
   "metadata": {},
   "outputs": [],
   "source": [
    "for i, data in enumerate(trainloader, 0):\n",
    "        images, labels = data\n",
    "        images = images.to(device)\n",
    "        x, g = model.forward(images)\n",
    "        x_train = g.detach().numpy().reshape(BATCH_SIZE, -1)\n",
    "        y_train = labels.detach().numpy().reshape(BATCH_SIZE,)\n",
    "        \n",
    "        cfier.partial_fit(x_train, y_train, np.arange(10))"
   ]
  },
  {
   "cell_type": "code",
   "execution_count": 69,
   "metadata": {},
   "outputs": [],
   "source": [
    "scores = []\n",
    "for i, data in enumerate(testloader, 0):\n",
    "        images, labels = data\n",
    "        images = images.to(device)\n",
    "        x, g = model.forward(images)\n",
    "        x_test = g.detach().numpy().reshape(BATCH_SIZE, -1)\n",
    "        y_test = labels.detach().numpy().reshape(BATCH_SIZE,)\n",
    "        \n",
    "        scr = cfier.score(x_test, y_test)\n",
    "        scores.append(scr)"
   ]
  },
  {
   "cell_type": "code",
   "execution_count": 70,
   "metadata": {},
   "outputs": [
    {
     "data": {
      "text/plain": [
       "0.10049999999999999"
      ]
     },
     "execution_count": 70,
     "metadata": {},
     "output_type": "execute_result"
    }
   ],
   "source": [
    "np.mean(scores)"
   ]
  },
  {
   "cell_type": "code",
   "execution_count": null,
   "metadata": {},
   "outputs": [],
   "source": []
  },
  {
   "cell_type": "code",
   "execution_count": null,
   "metadata": {},
   "outputs": [],
   "source": []
  }
 ],
 "metadata": {
  "kernelspec": {
   "display_name": "Python 3",
   "language": "python",
   "name": "python3"
  },
  "language_info": {
   "codemirror_mode": {
    "name": "ipython",
    "version": 3
   },
   "file_extension": ".py",
   "mimetype": "text/x-python",
   "name": "python",
   "nbconvert_exporter": "python",
   "pygments_lexer": "ipython3",
   "version": "3.6.9"
  }
 },
 "nbformat": 4,
 "nbformat_minor": 4
}
