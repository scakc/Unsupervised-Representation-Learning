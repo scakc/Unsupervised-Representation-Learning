{
 "cells": [
  {
   "cell_type": "code",
   "execution_count": 511,
   "metadata": {},
   "outputs": [
    {
     "data": {
      "text/plain": [
       "<torch.autograd.anomaly_mode.set_detect_anomaly at 0x7f38b7938588>"
      ]
     },
     "execution_count": 511,
     "metadata": {},
     "output_type": "execute_result"
    }
   ],
   "source": [
    "import torch\n",
    "import torchvision\n",
    "from torchvision import datasets, transforms\n",
    "import matplotlib.pyplot as plt\n",
    "import torch.nn as nn\n",
    "import torch.nn.functional as F\n",
    "import torch.utils.data\n",
    "from torch import nn, optim\n",
    "from torch.nn import functional as F\n",
    "from torchvision import datasets, transforms\n",
    "from torchvision.utils import save_image\n",
    "\n",
    "from IPython.display import clear_output as clr\n",
    "from sklearn.cluster import KMeans\n",
    "from sklearn.neural_network import MLPClassifier as mlp \n",
    "import os\n",
    "import numpy as np\n",
    "import time\n",
    "from IPython.display import clear_output as clr\n",
    "from sklearn.neural_network import MLPClassifier as MLP\n",
    "\n",
    "from mpl_toolkits.axes_grid1 import ImageGrid\n",
    "torch.autograd.set_detect_anomaly(True)"
   ]
  },
  {
   "cell_type": "code",
   "execution_count": 493,
   "metadata": {
    "scrolled": true
   },
   "outputs": [
    {
     "name": "stdout",
     "output_type": "stream",
     "text": [
      "Done !\n"
     ]
    }
   ],
   "source": [
    "# training\n",
    "BATCH_SIZE = 100\n",
    "if(os.path.isdir(os.path.join(os.getcwd(), '../data/MNIST'))):\n",
    "    trainset = datasets.MNIST('../data/', train=True, download=False,\n",
    "                   transform=transforms.ToTensor())\n",
    "else:\n",
    "    trainset = datasets.MNIST('../data/', train=True, download=True,\n",
    "                   transform=transforms.ToTensor())\n",
    "trainloader = torch.utils.data.DataLoader(trainset, batch_size=BATCH_SIZE,\n",
    "                                          shuffle=True, num_workers=2)\n",
    "print(\"Done !\")"
   ]
  },
  {
   "cell_type": "code",
   "execution_count": 520,
   "metadata": {},
   "outputs": [],
   "source": [
    "class VaDE(nn.Module):\n",
    "    \n",
    "    def __init__(self):\n",
    "        super(VaDE, self).__init__()\n",
    "        \n",
    "        self.D = 784\n",
    "        self.K = 10\n",
    "        self.latent_size = 14\n",
    "        \n",
    "        self.fc1 = nn.Linear(784, 400)\n",
    "        self.fc21 = nn.Linear(400, self.latent_size)\n",
    "        self.fc22 = nn.Linear(400, self.latent_size)\n",
    "        self.fc3 = nn.Linear(self.latent_size, 400)\n",
    "        self.fc4 = nn.Linear(400, 784)\n",
    "        \n",
    "        \n",
    "        self.logpis = torch.nn.Parameter(torch.tensor([1/self.latent_size + np.random.rand()*10e-4  for i in range(self.K)]).log())\n",
    "        self.mus = torch.nn.Parameter(torch.zeros((self.latent_size,self.K)))\n",
    "        self.logvars = torch.nn.Parameter(torch.zeros((self.latent_size,self.K)))\n",
    "        \n",
    "        self.classifier = MLP()\n",
    "        self.init_cla = True\n",
    "        self.optimizer = optim.Adam(self.parameters(), lr=1e-3)\n",
    "\n",
    "    def encode(self, x):\n",
    "        h1 = F.relu(self.fc1(x))\n",
    "        return self.fc21(h1), self.fc22(h1)\n",
    "    \n",
    "    def reparameterize(self, mu, logvar):\n",
    "        std = torch.exp(0.5*logvar)\n",
    "        eps = torch.randn_like(std)\n",
    "        return mu + eps*std\n",
    "\n",
    "    def decode(self, z):\n",
    "        h3 = F.relu(self.fc3(z))\n",
    "        return torch.sigmoid(self.fc4(h3))\n",
    "\n",
    "    def forward(self, x):\n",
    "        mu, logvar = self.encode(x.view(-1, self.D))\n",
    "        z = self.reparameterize(mu, logvar)\n",
    "        return self.decode(z), mu, logvar, z\n",
    "    \n",
    "    def objective(self, recon_x, x, mu, logvar, z):\n",
    "        N = x.shape[0]\n",
    "        \n",
    "        ### Calculating Gamma\n",
    "        logpc = self.logpis#pc.log()\n",
    "        qcgivenx = []\n",
    "        eps = 10e-8\n",
    "        \n",
    "        for j in range(self.K):\n",
    "            logvar_j = self.logvars[:,j] \n",
    "            means_j = self.mus[:,j]\n",
    "            inv_variance_j = torch.diag(1/torch.exp(logvar_j)+eps)\n",
    "            variance_j = torch.diag(torch.exp(logvar_j)+eps)\n",
    "            diff_j = (z - means_j.view(1,self.latent_size)).view(N, 1, 1, self.latent_size)## N x K\n",
    "            logpzgivenc = -0.5*logvar_j.sum() + (-0.5*torch.matmul(torch.matmul(diff_j, inv_variance_j.view(1,self.latent_size,\n",
    "                            self.latent_size)),diff_j.permute(0,1,3,2))).view(N)\n",
    "            qcgivenx.append((logpzgivenc + logpc[j]).view(N,1))\n",
    "\n",
    "        temp = torch.cat(qcgivenx, dim = 1).view(N,self.K)\n",
    "        gamma_unnorm = (temp - torch.max(temp)).exp()+eps\n",
    "        gamma = (gamma_unnorm/gamma_unnorm.sum(1).view(N,1)).detach()\n",
    "        \n",
    "        KL_gauss = []\n",
    "        KL_class = []\n",
    "        for j in range(self.K):\n",
    "            logvar_j = self.logvars[:,j].view(1,-1)\n",
    "            mu_j = self.mus[:,j].view(1,-1)\n",
    "            logpi_j = self.logpis[j]\n",
    "            var1 = -((logvar_j + (logvar-logvar_j).exp() + (mu_j-mu)**2/(logvar_j.exp())).sum(1)*0.5*gamma[:,j]).view(N)\n",
    "            KL_gauss.append(var1.sum().view(1,1))\n",
    "            var2 = gamma[:,j]*(logpi_j - (gamma[:,j] + eps).log())\n",
    "            KL_class.append(var2.sum().view(1,1))\n",
    "        \n",
    "        BCE = F.binary_cross_entropy(recon_x, x.view(-1, self.D), reduction='sum')/N\n",
    "        KLD = -(torch.sum(torch.cat(KL_class)) + torch.sum(torch.cat(KL_gauss)) + (1+logvar).sum()*0.5)/N\n",
    "        print('Losses', BCE, KLD)\n",
    "        return BCE + KLD\n",
    "    \n",
    "    def train(self, X_train):\n",
    "        N = X_train.shape[0]\n",
    "        data = X_train.view(-1,self.D)\n",
    "        self.optimizer.zero_grad()\n",
    "        recon_batch, mu, logvar, z = model(data)\n",
    "        loss = self.objective(recon_batch, data, mu, logvar, z)\n",
    "        loss.backward()\n",
    "        self.optimizer.step()\n",
    "        with torch.no_grad():\n",
    "            temp = (self.logpis.exp()/self.logpis.exp().sum() + 10e-8).log()\n",
    "            self.logpis*=0\n",
    "            self.logpis+=temp\n",
    "            \n",
    "        return loss.item()\n",
    "    \n",
    "    def train_classifier(self, Z_train, Y_train):\n",
    "        if(self.init_cla):\n",
    "            y_onehot = (np.arange(10) == Y_train[:,None]).astype(np.float32)\n",
    "            self.classifier.partial_fit(Z_train, Y_train, classes = y_onehot)\n",
    "            self.init_cla = False\n",
    "        else:\n",
    "            self.classifier.partial_fit(Z_train, Y_train)\n",
    "            \n",
    "    def score(self, X_train, Y_train):\n",
    "        N = X_train.shape[0]\n",
    "        data = X_train.view(-1,self.D)\n",
    "        mu, logvar = self.encode(data)\n",
    "        Z_train = self.reparameterize(mu, logvar)\n",
    "        score = self.classifier.score(Z_train.view(N,-1).detach().numpy(), (np.arange(10) == Y_train[:,None]).astype(np.float32))\n",
    "        return score"
   ]
  },
  {
   "cell_type": "code",
   "execution_count": 521,
   "metadata": {},
   "outputs": [],
   "source": [
    "device = 'cpu'\n",
    "model = VaDE()"
   ]
  },
  {
   "cell_type": "code",
   "execution_count": 522,
   "metadata": {},
   "outputs": [
    {
     "data": {
      "image/png": "[encoded data removed]",
      "text/plain": [
       "<Figure size 432x288 with 1 Axes>"
      ]
     },
     "metadata": {
      "needs_background": "light"
     },
     "output_type": "display_data"
    }
   ],
   "source": [
    "start = time.time()\n",
    "train_loss = []\n",
    "for epoch in range(10):\n",
    "    for i, data in enumerate(trainloader, 0):\n",
    "        images, labels = data\n",
    "        images = images.to(device)\n",
    "        \n",
    "        l = model.train(images)\n",
    "        train_loss.append(l)\n",
    "        \n",
    "        if(i%1 == 0):\n",
    "            print(\"Epoch no :\", epoch + 1, \"batch_no :\", i, \"curr_loss :\",  train_loss[-1], ' time_e:', time.time() - start)\n",
    "            clr(wait = True)\n",
    "        \n",
    "plt.plot(train_loss)\n",
    "plt.show()"
   ]
  },
  {
   "cell_type": "code",
   "execution_count": 512,
   "metadata": {},
   "outputs": [],
   "source": [
    "def show_images(images):\n",
    "    images = torchvision.utils.make_grid(images)\n",
    "    show_image(images[0])\n",
    "\n",
    "def show_image(img):\n",
    "    plt.imshow(img, cmap='gray')\n",
    "    plt.show()"
   ]
  },
  {
   "cell_type": "code",
   "execution_count": 516,
   "metadata": {},
   "outputs": [
    {
     "data": {
      "image/png": "[encoded data removed]",
      "text/plain": [
       "<Figure size 432x288 with 1 Axes>"
      ]
     },
     "metadata": {
      "needs_background": "light"
     },
     "output_type": "display_data"
    }
   ],
   "source": [
    "show_images(model.decode(model.mus.permute(1,0))[0:10].view(10,1,28,28).detach())"
   ]
  },
  {
   "cell_type": "code",
   "execution_count": 519,
   "metadata": {},
   "outputs": [
    {
     "data": {
      "text/plain": [
       "tensor(140.5120, grad_fn=<SumBackward0>)"
      ]
     },
     "execution_count": 519,
     "metadata": {},
     "output_type": "execute_result"
    }
   ],
   "source": [
    "model.logpis.exp().sum()"
   ]
  },
  {
   "cell_type": "code",
   "execution_count": null,
   "metadata": {},
   "outputs": [],
   "source": []
  }
 ],
 "metadata": {
  "kernelspec": {
   "display_name": "Python 3",
   "language": "python",
   "name": "python3"
  },
  "language_info": {
   "codemirror_mode": {
    "name": "ipython",
    "version": 3
   },
   "file_extension": ".py",
   "mimetype": "text/x-python",
   "name": "python",
   "nbconvert_exporter": "python",
   "pygments_lexer": "ipython3",
   "version": "3.6.9"
  }
 },
 "nbformat": 4,
 "nbformat_minor": 4
}
